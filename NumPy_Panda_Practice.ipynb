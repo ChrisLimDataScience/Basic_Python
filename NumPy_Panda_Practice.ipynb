{
  "nbformat": 4,
  "nbformat_minor": 0,
  "metadata": {
    "colab": {
      "name": "HW2_Lim_Chris.ipynb",
      "provenance": [],
      "collapsed_sections": []
    },
    "kernelspec": {
      "name": "python3",
      "display_name": "Python 3"
    }
  },
  "cells": [
    {
      "cell_type": "markdown",
      "metadata": {
        "id": "bNsIruOzI4iF"
      },
      "source": [
        "## **Homework 2**\n",
        "\n",
        "### Create a copy of the notebook to start answering the questions. Name your notebook in the format HW1_lastname_firstname.ipynb to facilitate the grading process. \n",
        "\n",
        "### Answer all the questions, test your code to ensure there are no errors and the results are as expected. Once you have answered all the questions, save the final copy, then go to File-> click on Download.ipynb. Once the local copy has been downloaded, submit your file on Blackboard under the corresponding assignment section. Also provide us a link to your notebook during submission. \n",
        "\n",
        "### **The due date of this homework is 02/12/2021 (Friday).**\n",
        "\n",
        "### Please ensure you follow all the steps mentioned in the homework.\n",
        "\n",
        "### All the questions have a sample input and output to help you understand the question.\n",
        "\n",
        "### You can submit your solutions any number of times until the deadline.\n"
      ]
    },
    {
      "cell_type": "markdown",
      "metadata": {
        "id": "U3Yz3s2uio1F"
      },
      "source": [
        "**Q1. Lets consider your data is like the below cell:**\n",
        "\n",
        "**Q1-1**: Write a program that create a dataframe from the data.\n",
        "\n",
        "**Q1-2:** Select people that are psychologist or teacher and their number of cars is greater than their family size.\n",
        "\n",
        "**Q1-3:** Select people who have at most 2 family members and at least 1 car.\n",
        "\n",
        "**Q1-4:** Write a code that get number of unique jobs in this dataset.\n",
        "\n",
        "\n",
        "\n"
      ]
    },
    {
      "cell_type": "code",
      "metadata": {
        "id": "yR8lcOtcjxXD"
      },
      "source": [
        "data = {\"name\": [\"Joseph\", \"Jacob\", \"Sam\", \"Jesee\", \"Ryan\", \"Lisa\", \"Lee\"],\n",
        "        \"job\": [\"teacher\", \"psychologist\", \"data scientist\", \"software developer\", \"psychologist\", \"psychologist\", \"teacher\"],\n",
        "        \"family_size\": [3, 2, 1, 4, 2, 3, 2],\n",
        "        \"num_cars\": [3, 1, 1, 2, 2, 4, 1]}"
      ],
      "execution_count": null,
      "outputs": []
    },
    {
      "cell_type": "code",
      "metadata": {
        "id": "Youi5qMaP34p",
        "colab": {
          "base_uri": "https://localhost:8080/"
        },
        "outputId": "a576df1e-47c7-4446-d0d2-04233c00cba2"
      },
      "source": [
        "# Type your solution here\n",
        "import pandas as pd\n",
        "import numpy as np\n",
        "print()\n",
        "print(\"Q1-1\")\n",
        "df = pd.DataFrame(data)\n",
        "print(df)\n",
        "print()\n",
        "print(\"Q1-2\")\n",
        "df2 = df[(np.logical_or(df[\"job\"]==\"teacher\", df[\"job\"]==\"psychologist\") & (df[\"num_cars\"]>df[\"family_size\"]))]\n",
        "print(df2)\n",
        "print()\n",
        "print(\"Q1-3\")\n",
        "df3= df[(df[\"family_size\"]<=2)& (df[\"num_cars\"]>=1)]\n",
        "print(df3)\n",
        "print()\n",
        "print(\"Q1-4\")\n",
        "print(len(df.loc[:,\"job\"].unique()))"
      ],
      "execution_count": null,
      "outputs": [
        {
          "output_type": "stream",
          "text": [
            "\n",
            "Q1-1\n",
            "     name                 job  family_size  num_cars\n",
            "0  Joseph             teacher            3         3\n",
            "1   Jacob        psychologist            2         1\n",
            "2     Sam      data scientist            1         1\n",
            "3   Jesee  software developer            4         2\n",
            "4    Ryan        psychologist            2         2\n",
            "5    Lisa        psychologist            3         4\n",
            "6     Lee             teacher            2         1\n",
            "\n",
            "Q1-2\n",
            "   name           job  family_size  num_cars\n",
            "5  Lisa  psychologist            3         4\n",
            "\n",
            "Q1-3\n",
            "    name             job  family_size  num_cars\n",
            "1  Jacob    psychologist            2         1\n",
            "2    Sam  data scientist            1         1\n",
            "4   Ryan    psychologist            2         2\n",
            "6    Lee         teacher            2         1\n",
            "\n",
            "Q1-4\n",
            "4\n"
          ],
          "name": "stdout"
        }
      ]
    },
    {
      "cell_type": "markdown",
      "metadata": {
        "id": "Ow6nG8k4l91X"
      },
      "source": [
        "**Q2. Lets consider you have two series like the below cell. Compute the mean of weights of each fruit.**"
      ]
    },
    {
      "cell_type": "code",
      "metadata": {
        "id": "u-X_DoOzVLLB"
      },
      "source": [
        "import numpy as np\n",
        "fruit = pd.Series(np.random.choice(['apple', 'banana', 'carrot'], 10))\n",
        "weights = pd.Series(np.linspace(1, 10, 10))"
      ],
      "execution_count": null,
      "outputs": []
    },
    {
      "cell_type": "code",
      "metadata": {
        "id": "S419nzYnpU__",
        "colab": {
          "base_uri": "https://localhost:8080/"
        },
        "outputId": "0cebaed1-badf-4db6-ae37-e430a605bdc9"
      },
      "source": [
        "# Type your solution here\n",
        "print(\"Q2\")\n",
        "data = {'fruit': fruit, 'weights': weights}\n",
        "frame = pd.DataFrame(data)\n",
        "print(frame)\n",
        "for i in fruit.unique():\n",
        "  #print(frame.weights[frame[\"fruit\"]==i])\n",
        "  x = np.sum(frame.weights[frame[\"fruit\"]==i])\n",
        "  x = x/len(frame[frame[\"fruit\"]==i])\n",
        "  print(\"The mean of \" + i + \" is \" + str(x))"
      ],
      "execution_count": null,
      "outputs": [
        {
          "output_type": "stream",
          "text": [
            "Q2\n",
            "    fruit  weights\n",
            "0  banana      1.0\n",
            "1  banana      2.0\n",
            "2  banana      3.0\n",
            "3  carrot      4.0\n",
            "4  carrot      5.0\n",
            "5  banana      6.0\n",
            "6  banana      7.0\n",
            "7  carrot      8.0\n",
            "8  carrot      9.0\n",
            "9  banana     10.0\n",
            "The mean of banana is 4.833333333333333\n",
            "The mean of carrot is 6.5\n"
          ],
          "name": "stdout"
        }
      ]
    },
    {
      "cell_type": "markdown",
      "metadata": {
        "id": "g4lKaPIhtVrt"
      },
      "source": [
        "**Q3. Consider the below course_name array:**\n",
        "\n",
        "**Q3-1**: Write a NumPy program to get the indices of the sorted elements of **course_name** array.\n",
        "\n",
        "**Q3-2:** Write numpy code to check whether each element of **course_name** array starts with \"P\".\n"
      ]
    },
    {
      "cell_type": "code",
      "metadata": {
        "id": "RUP_jp2KtVrx"
      },
      "source": [
        "import numpy as np\n",
        "import pandas as pd\n",
        "course_name = np.array(['Python', 'JS', 'examples', 'PHP', 'html'])"
      ],
      "execution_count": null,
      "outputs": []
    },
    {
      "cell_type": "code",
      "metadata": {
        "id": "U1i27POxv-o_",
        "colab": {
          "base_uri": "https://localhost:8080/"
        },
        "outputId": "4abc5c8f-fdad-4c8a-ec66-24619772b8e5"
      },
      "source": [
        "# Type your solution here\n",
        "print(\"Q3-1\")\n",
        "course = pd.Series(course_name)\n",
        "course.name = \"Course Name\"\n",
        "#print(course)\n",
        "print(course.sort_values())\n",
        "print()\n",
        "print(\"Q3-2\")\n",
        "frame = pd.DataFrame(course)\n",
        "frame[\"Start with P\"] = frame[\"Course Name\"].astype(str).str[0] == \"P\"\n",
        "print(frame)"
      ],
      "execution_count": null,
      "outputs": [
        {
          "output_type": "stream",
          "text": [
            "Q3-1\n",
            "1          JS\n",
            "3         PHP\n",
            "0      Python\n",
            "2    examples\n",
            "4        html\n",
            "Name: Course Name, dtype: object\n",
            "\n",
            "Q3-2\n",
            "  Course Name  Start with P\n",
            "0      Python          True\n",
            "1          JS         False\n",
            "2    examples         False\n",
            "3         PHP          True\n",
            "4        html         False\n"
          ],
          "name": "stdout"
        }
      ]
    },
    {
      "cell_type": "markdown",
      "metadata": {
        "id": "sUFItNFOxwkz"
      },
      "source": [
        "**Q4. Consider the below student_id array:**\n",
        "\n",
        "**Q4-1:** Reverse the **student_id** array. Print both original and reversed array.\n",
        "\n",
        "**Q4-2:** Get the 3-largest values of **student_id** array."
      ]
    },
    {
      "cell_type": "code",
      "metadata": {
        "id": "Rl5qzEjFv0nw"
      },
      "source": [
        "import numpy as np\n",
        "import pandas as pd\n",
        "student_id = np.array([1023, 5202, 6230, 1671, 1682, 5241, 4532])"
      ],
      "execution_count": null,
      "outputs": []
    },
    {
      "cell_type": "code",
      "metadata": {
        "id": "EetvHGrUxMCC",
        "colab": {
          "base_uri": "https://localhost:8080/"
        },
        "outputId": "61d88080-22f5-40a6-b480-374f73c83fe8"
      },
      "source": [
        "# Type your solution here\n",
        "print(\"Q4-1\")\n",
        "dates = pd.date_range(\"20130101\", periods=7)\n",
        "studentid = pd.DataFrame(student_id, index=np.arange(0, 7, 1), columns=[\"StudentID\"])\n",
        "Frame1 = Frame.sort_values(by=[\"StudentID\"], ascending=True)\n",
        "Frame2 = Frame.sort_values(by=[\"StudentID\"],ascending=False)\n",
        "Framex = Frame.sort_values(by=[\"index\"], ascending=False)\n",
        "print(studentid)\n",
        "print(Framex)\n",
        "#print(Frame1)\n",
        "#print(Frame2)\n",
        "print()\n",
        "print(\"Q4-2\")\n",
        "print(Frame2.head(3))"
      ],
      "execution_count": null,
      "outputs": [
        {
          "output_type": "stream",
          "text": [
            "Q4-1\n",
            "   StudentID\n",
            "0       1023\n",
            "1       5202\n",
            "2       6230\n",
            "3       1671\n",
            "4       1682\n",
            "5       5241\n",
            "6       4532\n",
            "       StudentID\n",
            "index           \n",
            "6           4532\n",
            "5           5241\n",
            "4           1682\n",
            "3           1671\n",
            "2           6230\n",
            "1           5202\n",
            "0           1023\n",
            "\n",
            "Q4-2\n",
            "       StudentID\n",
            "index           \n",
            "2           6230\n",
            "5           5241\n",
            "1           5202\n"
          ],
          "name": "stdout"
        }
      ]
    },
    {
      "cell_type": "markdown",
      "metadata": {
        "id": "uKRyDVuW6B19"
      },
      "source": [
        "# **Q5: Write a numpy program to print sum of all the multiples of 3 or 5 below 100**"
      ]
    },
    {
      "cell_type": "code",
      "metadata": {
        "id": "ZIixq1gz6OK3",
        "colab": {
          "base_uri": "https://localhost:8080/"
        },
        "outputId": "1efd8b6c-26b4-462d-b80b-942fc30ccdab"
      },
      "source": [
        "# Type your solution here\n",
        "\n",
        "# Hint: you can use arange to start off\n",
        "print(\"Q5\")\n",
        "print()\n",
        "arr =[]\n",
        "for i in range(0,100,1):\n",
        "  if ((i%3==0) or (i%5==0)):\n",
        "    if i in arr:\n",
        "      continue\n",
        "    else:\n",
        "      arr.append(i)\n",
        "\n",
        "sum=0\n",
        "for i in arr:\n",
        "  print(i)\n",
        "  sum= sum+i\n",
        "print(\"Sum: \" + str(sum))"
      ],
      "execution_count": null,
      "outputs": [
        {
          "output_type": "stream",
          "text": [
            "Q5\n",
            "0\n",
            "3\n",
            "5\n",
            "6\n",
            "9\n",
            "10\n",
            "12\n",
            "15\n",
            "18\n",
            "20\n",
            "21\n",
            "24\n",
            "25\n",
            "27\n",
            "30\n",
            "33\n",
            "35\n",
            "36\n",
            "39\n",
            "40\n",
            "42\n",
            "45\n",
            "48\n",
            "50\n",
            "51\n",
            "54\n",
            "55\n",
            "57\n",
            "60\n",
            "63\n",
            "65\n",
            "66\n",
            "69\n",
            "70\n",
            "72\n",
            "75\n",
            "78\n",
            "80\n",
            "81\n",
            "84\n",
            "85\n",
            "87\n",
            "90\n",
            "93\n",
            "95\n",
            "96\n",
            "99\n",
            "Sum:2318\n"
          ],
          "name": "stdout"
        }
      ]
    },
    {
      "cell_type": "markdown",
      "metadata": {
        "id": "2CWJOsP24c34"
      },
      "source": [
        "**Q6. Consider the below array.**\n",
        "\n",
        "Q6.1. Write a code to swap column 1 with column 2.\n",
        "\n",
        "Q6.2. Write a code to swap row 0 with row 1."
      ]
    },
    {
      "cell_type": "code",
      "metadata": {
        "id": "3OG6X5Eg5KSM",
        "colab": {
          "base_uri": "https://localhost:8080/"
        },
        "outputId": "0e21bca1-4b63-4259-af9f-d00cda3dd03b"
      },
      "source": [
        "import numpy as np\n",
        "\n",
        "arr = np.arange(12).reshape(3,4)\n",
        "print(arr)"
      ],
      "execution_count": null,
      "outputs": [
        {
          "output_type": "stream",
          "text": [
            "[[ 0  1  2  3]\n",
            " [ 4  5  6  7]\n",
            " [ 8  9 10 11]]\n"
          ],
          "name": "stdout"
        }
      ]
    },
    {
      "cell_type": "code",
      "metadata": {
        "id": "Q-Q91DpO5YYW",
        "colab": {
          "base_uri": "https://localhost:8080/"
        },
        "outputId": "01315f58-0c05-402b-ed62-e3fd1f4f3f20"
      },
      "source": [
        "# Type your solution here\n",
        "print(\"Q6.1\")\n",
        "b= np.copy(arr)\n",
        "a = np.copy(arr)\n",
        "b[:,[1, 2]] = b[:,[2, 1]]\n",
        "print(b)\n",
        "print()\n",
        "print(\"Q6.2\")\n",
        "#Q6.2\n",
        "a[[0, 1]] = a[[1, 0]]\n",
        "print(a)"
      ],
      "execution_count": null,
      "outputs": [
        {
          "output_type": "stream",
          "text": [
            "Q6.1\n",
            "[[ 0  2  1  3]\n",
            " [ 4  6  5  7]\n",
            " [ 8 10  9 11]]\n",
            "\n",
            "Q6.2\n",
            "[[ 4  5  6  7]\n",
            " [ 0  1  2  3]\n",
            " [ 8  9 10 11]]\n"
          ],
          "name": "stdout"
        }
      ]
    }
  ]
}