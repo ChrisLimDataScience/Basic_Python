{
  "nbformat": 4,
  "nbformat_minor": 0,
  "metadata": {
    "colab": {
      "name": "Chris' ITP449 Week1 & 2 students notebook.ipynb",
      "provenance": [],
      "collapsed_sections": [
        "wE758PuwpXX3",
        "Nq2B57Dz7pCF"
      ],
      "toc_visible": true
    },
    "kernelspec": {
      "name": "python3",
      "display_name": "Python 3"
    }
  },
  "cells": [
    {
      "cell_type": "markdown",
      "metadata": {
        "id": "I25Z6LRkUNpp"
      },
      "source": [
        "## Print Statements"
      ]
    },
    {
      "cell_type": "code",
      "metadata": {
        "id": "Q9nzmVyzDfCY"
      },
      "source": [
        "print(\"Hello World!\")"
      ],
      "execution_count": null,
      "outputs": []
    },
    {
      "cell_type": "code",
      "metadata": {
        "id": "elHax23kDi8j"
      },
      "source": [
        "print(Hello World!) # notice the error. Why?"
      ],
      "execution_count": null,
      "outputs": []
    },
    {
      "cell_type": "code",
      "metadata": {
        "id": "dvwuFldLD1j3"
      },
      "source": [
        "print(\"Hello World!\")\n",
        "print(\"Where does this line get printed?\")"
      ],
      "execution_count": null,
      "outputs": []
    },
    {
      "cell_type": "code",
      "metadata": {
        "id": "8mekGstEEWTu"
      },
      "source": [
        "print(\"Hello World!\", end=\"***\")\n",
        "print(\"Where does this line get printed?\") # Note - default value of end is newline \"\\n\". "
      ],
      "execution_count": null,
      "outputs": []
    },
    {
      "cell_type": "code",
      "metadata": {
        "id": "q-FJYMG7Eqta"
      },
      "source": [
        "print(\"Hello World!\", end=\" \")\n",
        "print(\"Where does this line get printed?\")"
      ],
      "execution_count": null,
      "outputs": []
    },
    {
      "cell_type": "code",
      "metadata": {
        "id": "dQTdBtO3EyM8"
      },
      "source": [
        "# Concatenate strings inside print statement\n",
        "\n",
        "print(\"Hello\" + \"World!\")\n",
        "print(\"Hello\" , \"World!\")"
      ],
      "execution_count": null,
      "outputs": []
    },
    {
      "cell_type": "markdown",
      "metadata": {
        "id": "Tz3slHxvE_uw"
      },
      "source": [
        "### Exercise:\n",
        "Display the following - \"Python\" comes from a 1970s comedy series"
      ]
    },
    {
      "cell_type": "code",
      "metadata": {
        "id": "etOFbAXaE6lH"
      },
      "source": [
        "# Display the following - \"Python\" comes from a 1970s comedy series -- use of escape character\n",
        "# Type your soultion here"
      ],
      "execution_count": null,
      "outputs": []
    },
    {
      "cell_type": "markdown",
      "metadata": {
        "id": "MRf5iY4aFpzi"
      },
      "source": [
        "## Comments in Python"
      ]
    },
    {
      "cell_type": "code",
      "metadata": {
        "id": "DbeC2poIFtz9"
      },
      "source": [
        "# This is a single line comment\n",
        "\n",
        "\"\"\"\n",
        "This is \n",
        "a multi-line\n",
        "comment!!!\n",
        "\"\"\""
      ],
      "execution_count": null,
      "outputs": []
    },
    {
      "cell_type": "markdown",
      "metadata": {
        "id": "Ridrf3s2Nxzt"
      },
      "source": [
        "## Calculations in Python"
      ]
    },
    {
      "cell_type": "code",
      "metadata": {
        "id": "eY_rzMSzN2QY"
      },
      "source": [
        "# Addition and subtraction\n",
        "print(8 + 5)\n",
        "print(13 - 3)\n",
        "\n",
        "# Multiplication and division\n",
        "print(5 * 4)\n",
        "print(200 / 10)\n",
        "\n",
        "print(7 // 3) # integer division\n",
        "\n",
        "# Modulo and exponentiation\n",
        "print(17 % 3)\n",
        "print(12 ** 4)"
      ],
      "execution_count": null,
      "outputs": []
    },
    {
      "cell_type": "code",
      "metadata": {
        "id": "DO456pZfnPGI"
      },
      "source": [
        "cost = 100\n",
        "salesTax = 0.095\n",
        "tax = cost * salesTax\n",
        "discount = 0.20\n",
        "\n",
        "print((cost + tax) * discount)\n",
        "print(cost + tax * discount)\n",
        "\n",
        "# notice the difference in the result based on position of paratheses"
      ],
      "execution_count": null,
      "outputs": []
    },
    {
      "cell_type": "markdown",
      "metadata": {
        "id": "A1r6wTiLGUu1"
      },
      "source": [
        "## Variables"
      ]
    },
    {
      "cell_type": "code",
      "metadata": {
        "id": "K1eyt8w1GWDK"
      },
      "source": [
        "# variable assignment and printing\n",
        "\n",
        "age = 10\n",
        "name = \"Sophie\"\n",
        "amount = 100.20\n",
        "isItSunny = True\n",
        "\n",
        "print(age)\n",
        "print(name)\n",
        "print(amount)\n",
        "print(isItSunny)"
      ],
      "execution_count": null,
      "outputs": []
    },
    {
      "cell_type": "code",
      "metadata": {
        "id": "YMYyrM5dLUra"
      },
      "source": [
        "# calculations with variables\n",
        "\n",
        "# area of cylinder\n",
        "\n",
        "pi = 3.14\n",
        "radius = 5\n",
        "area = pi * (radius ** 2)"
      ],
      "execution_count": null,
      "outputs": []
    },
    {
      "cell_type": "code",
      "metadata": {
        "id": "6K0HKkECLVAU"
      },
      "source": [
        "# string concatenation\n",
        "\n",
        "language = \"Python\"\n",
        "message = \"I love programming in\" + language\n",
        "\n",
        "print(message)"
      ],
      "execution_count": null,
      "outputs": []
    },
    {
      "cell_type": "code",
      "metadata": {
        "id": "n48AjOxKLYs_"
      },
      "source": [
        "# string methods\n",
        "\n",
        "lastName = \"Steinbeck\"\n",
        "print(lastName.upper())\n",
        "print(lastName.lower())"
      ],
      "execution_count": null,
      "outputs": []
    },
    {
      "cell_type": "markdown",
      "metadata": {
        "id": "7wklQ8slL3ai"
      },
      "source": [
        "### Exercise:\n",
        " Convert the value of fname to upper case and value of sname to lower case.\n",
        "  Concatenate the converted names and print it."
      ]
    },
    {
      "cell_type": "code",
      "metadata": {
        "id": "CBzle0zaZVBe"
      },
      "source": [
        "fname = \"Karl\"\n",
        "sname = \"John\" \n",
        "# Type your soultion here (Output - KARL john)"
      ],
      "execution_count": null,
      "outputs": []
    },
    {
      "cell_type": "markdown",
      "metadata": {
        "id": "FJ49_PTmZJUM"
      },
      "source": [
        "### Exercise:\n",
        " Calculate the volume of a sphere with radius 4. Take pi = 3.14"
      ]
    },
    {
      "cell_type": "code",
      "metadata": {
        "id": "sHdajsP3LfDY"
      },
      "source": [
        "# Type your soultion here"
      ],
      "execution_count": null,
      "outputs": []
    },
    {
      "cell_type": "markdown",
      "metadata": {
        "id": "hBqPwplgPYyJ"
      },
      "source": [
        "## Variable Types and type conversion"
      ]
    },
    {
      "cell_type": "code",
      "metadata": {
        "id": "0kVV9j_TPX-K"
      },
      "source": [
        "age = 10\n",
        "name = \"Sophie\"\n",
        "amount = 100.20\n",
        "isItSunny = True\n",
        "\n",
        "print(type(age))\n",
        "print(type(name))\n",
        "print(type(amount))\n",
        "print(type(isItSunny))"
      ],
      "execution_count": null,
      "outputs": []
    },
    {
      "cell_type": "code",
      "metadata": {
        "id": "8-V39deAjizg"
      },
      "source": [
        "# operations with different variable types\n",
        "\n",
        "num1 = 500\n",
        "num2 = 2.0\n",
        "\n",
        "result = num1 * num2 # what is the type of result?\n",
        "# print(type(result))"
      ],
      "execution_count": null,
      "outputs": []
    },
    {
      "cell_type": "code",
      "metadata": {
        "id": "c8RXr0-okA6N"
      },
      "source": [
        "string1 = \"hello\"\n",
        "string2 = string1 + string1\n",
        "print(string2)"
      ],
      "execution_count": null,
      "outputs": []
    },
    {
      "cell_type": "markdown",
      "metadata": {
        "id": "IWkhun28QQAT"
      },
      "source": [
        "### Exercise:\n",
        " Type conversion"
      ]
    },
    {
      "cell_type": "code",
      "metadata": {
        "id": "q6B-5cOsQPqy"
      },
      "source": [
        "# convert value into float.\n",
        "value = 1200\n",
        "# Type your soultion here"
      ],
      "execution_count": null,
      "outputs": []
    },
    {
      "cell_type": "markdown",
      "metadata": {
        "id": "DgxwiscgluEp"
      },
      "source": [
        "## Reading input"
      ]
    },
    {
      "cell_type": "code",
      "metadata": {
        "id": "dg3nO-dplyHo"
      },
      "source": [
        "name = input(\"Please enter your name \")\n",
        "print(\"Hi\", name)"
      ],
      "execution_count": null,
      "outputs": []
    },
    {
      "cell_type": "markdown",
      "metadata": {
        "id": "4FCrDqcOmD7k"
      },
      "source": [
        "### Exercise:\n",
        " Read 2 numbers from input. Store them in separate variables. Find the sum of the 2 variables"
      ]
    },
    {
      "cell_type": "code",
      "metadata": {
        "id": "CwjaaluhmDLP"
      },
      "source": [
        "# Type your soultion here\n"
      ],
      "execution_count": null,
      "outputs": []
    },
    {
      "cell_type": "markdown",
      "metadata": {
        "id": "g0ubkbfEn8Up"
      },
      "source": [
        "## Branching"
      ]
    },
    {
      "cell_type": "markdown",
      "metadata": {
        "id": "XdnFEkq3oC1_"
      },
      "source": [
        "### if-else statements"
      ]
    },
    {
      "cell_type": "code",
      "metadata": {
        "id": "vTBIIVEhn9d3"
      },
      "source": [
        "password = input(\"Enter your password\")\n",
        "\n",
        "if password == \"secret\":\n",
        "  print(\"Access granted\")\n",
        "else:\n",
        "  print(\"Access denied\")"
      ],
      "execution_count": null,
      "outputs": []
    },
    {
      "cell_type": "markdown",
      "metadata": {
        "id": "IvNumQMkoXvk"
      },
      "source": [
        "### Exercise:\n",
        " Get the age of a person from input and display a message that states whether the person can vote or not."
      ]
    },
    {
      "cell_type": "code",
      "metadata": {
        "id": "c6AbIp_Do1V0"
      },
      "source": [
        "# Type your soultion here"
      ],
      "execution_count": null,
      "outputs": []
    },
    {
      "cell_type": "markdown",
      "metadata": {
        "id": "wE758PuwpXX3"
      },
      "source": [
        "### Blocks"
      ]
    },
    {
      "cell_type": "markdown",
      "metadata": {
        "id": "-Nsn0h3xpi2X"
      },
      "source": [
        "### Exercise:\n",
        " Get the age of a person from input and display a message that states that the person can vote if they are over 18. If not display a message that states that the person can't vote if they are under 18. Also calculate and display the number of years remaining until they can vote in this case."
      ]
    },
    {
      "cell_type": "code",
      "metadata": {
        "id": "GqxXQZCbpdCI"
      },
      "source": [
        "# Type your soultion here"
      ],
      "execution_count": null,
      "outputs": []
    },
    {
      "cell_type": "markdown",
      "metadata": {
        "id": "xlzmmrMD5eeZ"
      },
      "source": [
        "### if-elif statements"
      ]
    },
    {
      "cell_type": "code",
      "metadata": {
        "id": "3HK8Okn9qpp0"
      },
      "source": [
        "midtermScore = int(input(\"Enter your midterm score\"))\n",
        "\n",
        "if midtermScore >= 90:\n",
        "  grade = 'A'\n",
        "elif midtermScore >= 80:\n",
        "  grade = 'B'\n",
        "elif midtermScore >= 70:\n",
        "  grade = 'C'\n",
        "elif midtermScore >= 60:\n",
        "  grade = 'D'\n",
        "else:\n",
        "  grade = 'F'\n",
        "\n",
        "print(grade)"
      ],
      "execution_count": null,
      "outputs": []
    },
    {
      "cell_type": "markdown",
      "metadata": {
        "id": "LsdD2r5j6eph"
      },
      "source": [
        "### Conditions in if-else"
      ]
    },
    {
      "cell_type": "code",
      "metadata": {
        "id": "RtqFIDtA6d9d"
      },
      "source": [
        "mystery = \"chicken\"\n",
        "\n",
        "if mystery: # this works equivalent to the condition if mystery == True:\n",
        "  print(mystery, \"is True\") "
      ],
      "execution_count": null,
      "outputs": []
    },
    {
      "cell_type": "code",
      "metadata": {
        "id": "Txqb68Rw61KK"
      },
      "source": [
        "mystery = 0\n",
        "\n",
        "if mystery: # equivalent to if mystery == 1:\n",
        "  print(mystery, \"is True\")\n",
        "else:\n",
        "  print(mystery, \"is False\") "
      ],
      "execution_count": null,
      "outputs": []
    },
    {
      "cell_type": "code",
      "metadata": {
        "id": "9eSQcFrq7IRC"
      },
      "source": [
        "x = False\n",
        "\n",
        "if x:\n",
        "  print(\"x is True\")\n",
        "else:\n",
        "  print(\"x is False\")\n",
        "\n",
        "y = \"False\"\n",
        "\n",
        "if y:\n",
        "  print(\"y is True\")\n",
        "else:\n",
        "  print(\"y is False\")\n",
        "\n",
        "# Notice that the results are different in both the cases. Why?"
      ],
      "execution_count": null,
      "outputs": []
    },
    {
      "cell_type": "markdown",
      "metadata": {
        "id": "Nq2B57Dz7pCF"
      },
      "source": [
        "### Compound conditions in if-else"
      ]
    },
    {
      "cell_type": "markdown",
      "metadata": {
        "id": "fJ1oe79W7wBT"
      },
      "source": [
        "### Exercise:\n",
        " Pick a number between 1 and 10 and display is number is even or odd. Also, display an error message if number is less than 1 or greater than 10"
      ]
    },
    {
      "cell_type": "code",
      "metadata": {
        "id": "noKeCFZw7tGX"
      },
      "source": [
        "# Type your soultion here"
      ],
      "execution_count": null,
      "outputs": []
    },
    {
      "cell_type": "markdown",
      "metadata": {
        "id": "oA5YZUxi8Znb"
      },
      "source": [
        "## Loops"
      ]
    },
    {
      "cell_type": "markdown",
      "metadata": {
        "id": "sjQbVjCA8a26"
      },
      "source": [
        "### While loop"
      ]
    },
    {
      "cell_type": "code",
      "metadata": {
        "id": "jVxeY3Uh9vK7"
      },
      "source": [
        "numBottles = 99\n",
        "\n",
        "while numBottles > 0:\n",
        "  print(numBottles, \"bottles of cold brew coffee on the wall\")\n",
        "  print(\"Take one down and pass it around\")\n",
        "  numBottles = numBottles - 1\n",
        "\n",
        "print(\"Cold brew coffee is all gone\")\n",
        "\n",
        "# how many bottles left in the end?"
      ],
      "execution_count": null,
      "outputs": []
    },
    {
      "cell_type": "code",
      "metadata": {
        "id": "PiCC8Kw5HKD-"
      },
      "source": [
        "S = 0\n",
        "areMore = True\n",
        "\n",
        "print(\"Enter positive numbers or type -1 to exit\")\n",
        "while areMore:\n",
        "  nextNum = int(input(\"Enter a number\"))\n",
        "  if nextNum < 0:\n",
        "    areMore = False\n",
        "  else:\n",
        "    S = S + nextNum\n",
        "print(\"The sum is\", S)"
      ],
      "execution_count": null,
      "outputs": []
    },
    {
      "cell_type": "markdown",
      "metadata": {
        "id": "6hQ2XDtX-m80"
      },
      "source": [
        "### Exercise: \n",
        "\n",
        "Print i as long as i is less than 6."
      ]
    },
    {
      "cell_type": "code",
      "metadata": {
        "id": "thRFmhy-_gFG"
      },
      "source": [
        "i = 1\n",
        "# Type your soultion here\n"
      ],
      "execution_count": null,
      "outputs": []
    },
    {
      "cell_type": "markdown",
      "metadata": {
        "id": "85JcCN4TfG3a"
      },
      "source": [
        "### Exercise: Write code to get the following output:\n",
        "\n",
        "          Do you want cream (y/n)?: x\n",
        "          Do you want cream (y/n)?: z\n",
        "          Do you want cream (y/n)?: y\n",
        "          Here's your coffee with cream\n",
        "          Do you want cream (y/n)?: n\n",
        "          Here's your coffee without cream"
      ]
    },
    {
      "cell_type": "code",
      "metadata": {
        "id": "WAGtbUtmANaR"
      },
      "source": [
        "# Type your soultion here\n",
        "\n",
        "# how long does this program run?"
      ],
      "execution_count": null,
      "outputs": []
    },
    {
      "cell_type": "markdown",
      "metadata": {
        "id": "L4vqx-eCIICV"
      },
      "source": [
        "### For loop and range function"
      ]
    },
    {
      "cell_type": "code",
      "metadata": {
        "id": "YWBF1zSsIKrE"
      },
      "source": [
        "for num in range(3):\n",
        "  print(num)\n",
        "print(\"Done\")"
      ],
      "execution_count": null,
      "outputs": []
    },
    {
      "cell_type": "code",
      "metadata": {
        "id": "Zi-bzUobIPvb"
      },
      "source": [
        "for num in range(3):\n",
        "  print(num + 2)\n",
        "print(\"Done\")"
      ],
      "execution_count": null,
      "outputs": []
    },
    {
      "cell_type": "code",
      "metadata": {
        "id": "gmd2gkEMIYSB"
      },
      "source": [
        "msg = \"learning\"\n",
        "\n",
        "for letter in msg:\n",
        "  print(letter.upper(), end=\" \")"
      ],
      "execution_count": null,
      "outputs": []
    },
    {
      "cell_type": "code",
      "metadata": {
        "id": "POaHJngJjbVo"
      },
      "source": [
        "# Program to print even number using step size in range().\n",
        "\n",
        "n = int(input(\"Enter the number \"))  \n",
        "for i in range(2,n,2):  \n",
        "    print(i)  "
      ],
      "execution_count": null,
      "outputs": []
    },
    {
      "cell_type": "markdown",
      "metadata": {
        "id": "9xT0HCWei9T_"
      },
      "source": [
        "### Exercise: \n",
        "\n",
        "Use for loop to print table of 5."
      ]
    },
    {
      "cell_type": "code",
      "metadata": {
        "id": "X5pTSLDri9UD"
      },
      "source": [
        "# Type your soultion here\n"
      ],
      "execution_count": null,
      "outputs": []
    },
    {
      "cell_type": "markdown",
      "metadata": {
        "id": "-jcae-Ej0Ct_"
      },
      "source": [
        "## Functions\n",
        "\n",
        "Method - a function which is part of a class. You access it with an instance or object of the class.\n",
        "\n",
        "Function - standalone function. \n",
        "\n",
        "All methods are functions, but not all functions are methods."
      ]
    },
    {
      "cell_type": "code",
      "metadata": {
        "id": "ZOiX_Cv90Oj5"
      },
      "source": [
        "# Function creation/definition - User-defined functions\n",
        "\n",
        "def plus(a,b):\n",
        "  return a + b"
      ],
      "execution_count": null,
      "outputs": []
    },
    {
      "cell_type": "code",
      "metadata": {
        "id": "TKnxjX7e1c7W"
      },
      "source": [
        "# method\n",
        "\n",
        "class Summation(object):\n",
        "  def sum(self, a, b):\n",
        "    self.contents = a + b\n",
        "    return self.contents \n",
        "\n",
        "# Here Summation is the class and sum is the method of the class"
      ],
      "execution_count": null,
      "outputs": []
    },
    {
      "cell_type": "code",
      "metadata": {
        "id": "eHCI_Nes1s2t"
      },
      "source": [
        "# to use method sum, instantiate Summation and then use the method\n",
        "\n",
        "sumInstance = Summation()\n",
        "sumInstance.sum(1,2)"
      ],
      "execution_count": null,
      "outputs": []
    },
    {
      "cell_type": "code",
      "metadata": {
        "id": "9yBW2ld01z2S"
      },
      "source": [
        "# to call the plus() function\n",
        "\n",
        "plus(1, 2)"
      ],
      "execution_count": null,
      "outputs": []
    },
    {
      "cell_type": "markdown",
      "metadata": {
        "id": "uB_irCfK5R3-"
      },
      "source": [
        "### Return from function"
      ]
    },
    {
      "cell_type": "code",
      "metadata": {
        "id": "s1ViCS1B2GZb"
      },
      "source": [
        "def hello():\n",
        "  print(\"Hello World\") \n",
        "  return \n",
        "\n",
        "# pass any parameters within paratheses()\n",
        "# functions may have a return statement - if nothing passed - None is returned\n",
        "\n",
        "# above function can be written as\n",
        "def hello():\n",
        "  print(\"Hello World\") "
      ],
      "execution_count": null,
      "outputs": []
    },
    {
      "cell_type": "code",
      "metadata": {
        "id": "0U4xD6c63fgh"
      },
      "source": [
        "def anotherFunction():\n",
        "  name = str(input(\"Enter your name: \"))\n",
        "  if name:\n",
        "    print (\"Hello \" + str(name))\n",
        "  else:\n",
        "    print(\"Hello World\") \n",
        "  return \n",
        "  \n",
        "anotherFunction()"
      ],
      "execution_count": null,
      "outputs": []
    },
    {
      "cell_type": "code",
      "metadata": {
        "id": "fX2ghKNo38tK"
      },
      "source": [
        "def hello():\n",
        "  print(\"Hello World\") \n",
        "  return(\"hello\")\n",
        "\n",
        "def hello_noreturn():\n",
        "  print(\"Hello World\")"
      ],
      "execution_count": null,
      "outputs": []
    },
    {
      "cell_type": "code",
      "metadata": {
        "id": "LwOwpDgx3_xv"
      },
      "source": [
        "# Multiply the output of 'hello()' with 2 \n",
        "hello() * 2"
      ],
      "execution_count": null,
      "outputs": []
    },
    {
      "cell_type": "code",
      "metadata": {
        "id": "h4xcSHs74Elo"
      },
      "source": [
        "# (Try to) multiply the output of 'hello_noreturn()' with 2 --- error case\n",
        "hello_noreturn() * 2"
      ],
      "execution_count": null,
      "outputs": []
    },
    {
      "cell_type": "code",
      "metadata": {
        "id": "9noKGgy14Klw"
      },
      "source": [
        "def run():\n",
        "  for x in range(10):\n",
        "     if x == 2:\n",
        "       return\n",
        "  print(\"Run!\") # this statement not executed. Why?\n",
        "  \n",
        "run()"
      ],
      "execution_count": null,
      "outputs": []
    },
    {
      "cell_type": "code",
      "metadata": {
        "id": "UPPDhc524hNM"
      },
      "source": [
        "# Define 'plus()'\n",
        "def plus(a,b):\n",
        "  sum = a + b\n",
        "  return (sum, a)\n",
        "\n",
        "# Call 'plus()' and unpack variables \n",
        "sum, a = plus(3,4)\n",
        "\n",
        "# Print 'sum()'\n",
        "print(sum)"
      ],
      "execution_count": null,
      "outputs": []
    },
    {
      "cell_type": "markdown",
      "metadata": {
        "id": "DDpZ1lEy5FVU"
      },
      "source": [
        "### Function Arguments"
      ]
    },
    {
      "cell_type": "code",
      "metadata": {
        "id": "iwgeN0A_4uy6"
      },
      "source": [
        "# Define 'plus()' function\n",
        "def plus(a,b = 2): # default argument for b\n",
        "  return a + b\n",
        "  \n",
        "# Call 'plus()' with only 'a' parameter\n",
        "plus(a=1)\n",
        "\n",
        "# Call 'plus()' with 'a' and 'b' parameters\n",
        "plus(a=1, b=3)"
      ],
      "execution_count": null,
      "outputs": []
    },
    {
      "cell_type": "code",
      "metadata": {
        "id": "hHtwRuST5Dxl"
      },
      "source": [
        "# a and b are required arguments\n",
        "\n",
        "def plus(a,b):\n",
        "  return a + b"
      ],
      "execution_count": null,
      "outputs": []
    },
    {
      "cell_type": "code",
      "metadata": {
        "id": "C7eZXR6t5ffn"
      },
      "source": [
        "# variable number of arguments\n",
        "\n",
        "def plus(*args):\n",
        "  return sum(args)\n",
        "\n",
        "# Calculate the sum\n",
        "plus(1,4,5)"
      ],
      "execution_count": null,
      "outputs": []
    },
    {
      "cell_type": "markdown",
      "metadata": {
        "id": "NucBFYCm5IPX"
      },
      "source": [
        "### Exercise:\n",
        "Create a function to check whether the given number is even or odd "
      ]
    },
    {
      "cell_type": "code",
      "metadata": {
        "id": "HMeIzga85IPa"
      },
      "source": [
        "# Type your soultion here\n"
      ],
      "execution_count": null,
      "outputs": []
    },
    {
      "cell_type": "markdown",
      "metadata": {
        "id": "ZYQ-H0z-5Iiz"
      },
      "source": [
        "### Exercise:\n",
        "Create a function that returns the absolute value of the entered number."
      ]
    },
    {
      "cell_type": "code",
      "metadata": {
        "id": "JiS1C_Nm5Ii0"
      },
      "source": [
        "# Type your soultion here\n"
      ],
      "execution_count": null,
      "outputs": []
    },
    {
      "cell_type": "markdown",
      "metadata": {
        "id": "Rzsba9PDIwoF"
      },
      "source": [
        "## Lists"
      ]
    },
    {
      "cell_type": "code",
      "metadata": {
        "id": "QiPWmNSwJR70"
      },
      "source": [
        "# Examples\n",
        "\n",
        "num = [1, 2]\n",
        "print(num)\n",
        "\n",
        "letter = ['a', 'b', 'c']\n",
        "print(letter)\n",
        "\n",
        "mix = [1, \"a\", 2, \"b\"]\n",
        "print(mix)\n",
        "\n",
        "mix1 = [[1, 2], [\"a\", \"b\", \"c\"]]\n",
        "mix2 = [num, letter]\n",
        "print(mix1)\n",
        "print(mix2)\n",
        "\n",
        "# type of list\n",
        "print(type(num))\n",
        "print(type(mix2))"
      ],
      "execution_count": null,
      "outputs": []
    },
    {
      "cell_type": "markdown",
      "metadata": {
        "id": "oRaVg2Ecj6up"
      },
      "source": [
        "### Exercise: \n",
        "\n",
        "print the sum of the given list."
      ]
    },
    {
      "cell_type": "code",
      "metadata": {
        "id": "szH5vVi-j6uq"
      },
      "source": [
        "list = [10,30,23,43,65,12]  \n",
        "\n",
        "# Type your soultion here\n",
        "\n",
        " "
      ],
      "execution_count": null,
      "outputs": []
    },
    {
      "cell_type": "markdown",
      "metadata": {
        "id": "UO91hehVJ9Lk"
      },
      "source": [
        "### Subsetting lists"
      ]
    },
    {
      "cell_type": "code",
      "metadata": {
        "id": "Ety5a-YGJ8eT"
      },
      "source": [
        "mylist = [\"hi\", 0.05, 4, \"hello\", 22, 10.78, \"abc\"]\n",
        "\n",
        "print(mylist[1])\n",
        "\n",
        "print(mylist[6]) # same as the next\n",
        "print(mylist[-1])\n",
        "\n",
        "print(mylist[-3])"
      ],
      "execution_count": null,
      "outputs": []
    },
    {
      "cell_type": "markdown",
      "metadata": {
        "id": "Ze5ymAxdLQKe"
      },
      "source": [
        "### List Slicing"
      ]
    },
    {
      "cell_type": "code",
      "metadata": {
        "colab": {
          "base_uri": "https://localhost:8080/"
        },
        "id": "vLNtRwcaLT54",
        "outputId": "12a2b7f2-3406-4125-9687-29d3943fcc4a"
      },
      "source": [
        "mylist = [\"hi\", 0.05, 4, \"hello\", 22, 10.78, \"abc\"]\n",
        "\n",
        "print(mylist[1:4])\n",
        "print(mylist[3:5])\n",
        "\n",
        "print(mylist[:4])\n",
        "print(mylist[2:])\n",
        "\n",
        "print(mylist[::-1])"
      ],
      "execution_count": null,
      "outputs": [
        {
          "output_type": "stream",
          "text": [
            "[0.05, 4, 'hello']\n",
            "['hello', 22]\n",
            "['hi', 0.05, 4, 'hello']\n",
            "[4, 'hello', 22, 10.78, 'abc']\n",
            "['abc', 10.78, 22, 'hello', 4, 0.05, 'hi']\n"
          ],
          "name": "stdout"
        }
      ]
    },
    {
      "cell_type": "markdown",
      "metadata": {
        "id": "qvpbqtU1OHGX"
      },
      "source": [
        "### Changing list elements"
      ]
    },
    {
      "cell_type": "code",
      "metadata": {
        "colab": {
          "base_uri": "https://localhost:8080/"
        },
        "id": "WOpCVYjCONub",
        "outputId": "f8a1e07d-1116-410d-fbe0-bc02636bb098"
      },
      "source": [
        "mylist = [\"hi\", 0.05, 4, \"hello\", 22, 10.78, \"abc\"]\n",
        "\n",
        "mylist[2] = 28\n",
        "print(mylist)\n",
        "\n",
        "mylist[1:3] = [0.08, 56]\n",
        "print(mylist)\n",
        "\n",
        "newlist = mylist + ['extra', 'elements']\n",
        "print(newlist)\n",
        "\n",
        "del newlist[7]\n",
        "print(newlist)"
      ],
      "execution_count": null,
      "outputs": [
        {
          "output_type": "execute_result",
          "data": {
            "text/plain": [
              "['hi', 0.08, 56, 'hello', 22, 10.78, 'abc', 'elements']"
            ]
          },
          "metadata": {
            "tags": []
          },
          "execution_count": 5
        }
      ]
    },
    {
      "cell_type": "markdown",
      "metadata": {
        "id": "_zWTxH3QSO2f"
      },
      "source": [
        "### Built-in functions/methods for lists"
      ]
    },
    {
      "cell_type": "code",
      "metadata": {
        "id": "vaQ8d4bhPneN"
      },
      "source": [
        "num = [1, 2]\n",
        "print(num)\n",
        "\n",
        "num.append(3)\n",
        "print(num)\n",
        "\n",
        "letter = ['a', 'b', 'c']\n",
        "letter = letter + ['d'] # brute force\n",
        "letter\n",
        "\n",
        "num.extend(letter)\n",
        "print(num)\n",
        "\n",
        "num.insert(1, 'x')\n",
        "print(num)\n",
        "\n",
        "# what's the difference between append and extend?"
      ],
      "execution_count": null,
      "outputs": []
    },
    {
      "cell_type": "code",
      "metadata": {
        "id": "VUj-cGEyQB7r"
      },
      "source": [
        "num.insert(2, 'x')\n",
        "print(num)\n",
        "\n",
        "num.remove('x')\n",
        "print(num)"
      ],
      "execution_count": null,
      "outputs": []
    },
    {
      "cell_type": "code",
      "metadata": {
        "id": "oJ-VvBQrQOwC"
      },
      "source": [
        "num = [1, 2, 3]\n",
        "letter = [\"a\", \"b\", \"c\"]\n",
        "\n",
        "mix = num + letter\n",
        "\n",
        "num.sort()\n",
        "print(num)\n",
        "\n",
        "letter.sort()\n",
        "print(letter)\n",
        "\n",
        "mix.sort() #error case\n",
        "print(mix)"
      ],
      "execution_count": null,
      "outputs": []
    },
    {
      "cell_type": "code",
      "metadata": {
        "id": "jdj2r-hrSSPH"
      },
      "source": [
        "x = [2, 40, 21, 5, 103]\n",
        "\n",
        "print(len(x))\n",
        "print(min(x))\n",
        "print(max(x))\n",
        "print(sum(x))"
      ],
      "execution_count": null,
      "outputs": []
    },
    {
      "cell_type": "markdown",
      "metadata": {
        "id": "cD-HUcDnSebe"
      },
      "source": [
        "### Exercise:\n",
        "\n",
        "Calculate and display the mean of the following list - [2, 40, 21, 5, 103]"
      ]
    },
    {
      "cell_type": "code",
      "metadata": {
        "id": "k4rUGVe5TN9l"
      },
      "source": [
        "# # Type your soultion here"
      ],
      "execution_count": null,
      "outputs": []
    },
    {
      "cell_type": "markdown",
      "metadata": {
        "id": "pSpyQuSiIyAt"
      },
      "source": [
        "## Dictionaries"
      ]
    },
    {
      "cell_type": "code",
      "metadata": {
        "id": "ctw0Q8iWJAVu"
      },
      "source": [
        "foodMenu = {'Pizza': 12, 'Burger': 8, 'Biryani': 15, 'Hot Dog': 5, 'Sandwich': 7}\n",
        "\n",
        "print(foodMenu.keys())\n",
        "print(foodMenu.values())\n",
        "print(foodMenu.items())"
      ],
      "execution_count": null,
      "outputs": []
    },
    {
      "cell_type": "markdown",
      "metadata": {
        "id": "qKm4kD8vVOGq"
      },
      "source": [
        "### Accessing elements of dictionary"
      ]
    },
    {
      "cell_type": "code",
      "metadata": {
        "id": "VaiAClxRrCTw"
      },
      "source": [
        "foodMenu = {'Pizza': 12, 'Burger': 8, 'Biryani': 15, 'Hot Dog': 5, 'Sandwich': 7}\n",
        "\n",
        "print(foodMenu['Burger'])\n",
        "\n",
        "# print(foodMenu[1]) #error case"
      ],
      "execution_count": null,
      "outputs": []
    },
    {
      "cell_type": "code",
      "metadata": {
        "id": "8GaYQbkXrCT0"
      },
      "source": [
        "foodMenu = {'Pizza': 12, 'Burger': 8, 'Biryani': 15, 'Hot Dog': 5, 'Sandwich': 7}\n",
        "\n",
        "for food in foodMenu.keys():\n",
        "  print(food)\n",
        "\n",
        "# for price in foodMenu.values():\n",
        "#   print(price)\n",
        "\n",
        "# for foodItem in foodMenu.items():\n",
        "#   print(foodItem)"
      ],
      "execution_count": null,
      "outputs": []
    },
    {
      "cell_type": "markdown",
      "metadata": {
        "id": "R06n5R9wrCT1"
      },
      "source": [
        "### Adding elements"
      ]
    },
    {
      "cell_type": "code",
      "metadata": {
        "id": "dtmRYWVtrCT1"
      },
      "source": [
        "foodMenu = {'Pizza': 12, 'Burger': 8, 'Biryani': 15, 'Hot Dog': 5, 'Sandwich': 7}\n",
        "\n",
        "foodMenu['Soup'] = 6\n",
        "print(foodMenu)\n",
        "\n",
        "foodMenu['Burger'] = 9\n",
        "print(foodMenu)"
      ],
      "execution_count": null,
      "outputs": []
    },
    {
      "cell_type": "code",
      "metadata": {
        "id": "NTEb04rRVsuH"
      },
      "source": [
        "mylist1 = [8, 12]\n",
        "mylist2 = [12, 8]\n",
        "\n",
        "print(mylist1 == mylist2)\n",
        "\n",
        "myDict1 = {'Pizza':12, 'Burger': 8}\n",
        "myDict2 = {'Burger': 8, 'Pizza':12}\n",
        "\n",
        "print(myDict1 == myDict2)\n",
        "\n",
        "# Comment on the order of elements"
      ],
      "execution_count": null,
      "outputs": []
    },
    {
      "cell_type": "markdown",
      "metadata": {
        "id": "zL-mBkyEowlA"
      },
      "source": [
        "### Exercise:\n",
        "\n",
        "Print the length of the foodMenu Dictionary\n",
        "\n",
        "Insert key,value (Brownie,14) pair into dictionary\n",
        "\n",
        "Print the updated dictionary\n",
        "\n",
        "Print the length of the updated foodMenu Dictionary"
      ]
    },
    {
      "cell_type": "code",
      "metadata": {
        "id": "4kOXn3Z2owlN"
      },
      "source": [
        "foodMenu = {'Pizza': 12, 'Burger': 8, 'Biryani': 15, 'Hot Dog': 5, 'Sandwich': 7}\n",
        "# Type your Solution here:\n"
      ],
      "execution_count": null,
      "outputs": []
    },
    {
      "cell_type": "markdown",
      "metadata": {
        "id": "k5iVqA_CWPZ9"
      },
      "source": [
        "## Modules"
      ]
    },
    {
      "cell_type": "code",
      "metadata": {
        "id": "07xk9IgVWUeQ"
      },
      "source": [
        "# general format\n",
        "\n",
        "# import moduleName\n",
        "# moduleName.functionName -- to use the functions and methods of the module"
      ],
      "execution_count": null,
      "outputs": []
    },
    {
      "cell_type": "code",
      "metadata": {
        "id": "nTwPEuj-Wg95"
      },
      "source": [
        "import random\n",
        "\n",
        "number = random.randrange(6)\n",
        "print(number)\n",
        "\n",
        "number = random.randrange(6) + 1\n",
        "print(number)"
      ],
      "execution_count": null,
      "outputs": []
    }
  ]
}